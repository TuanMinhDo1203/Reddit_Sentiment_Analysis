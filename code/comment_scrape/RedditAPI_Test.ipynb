{
 "cells": [
  {
   "cell_type": "code",
   "execution_count": 7,
   "metadata": {},
   "outputs": [
    {
     "name": "stderr",
     "output_type": "stream",
     "text": [
      "C:\\Users\\duckh\\AppData\\Local\\Temp\\ipykernel_29916\\2099271362.py:45: DeprecationWarning: datetime.datetime.utcfromtimestamp() is deprecated and scheduled for removal in a future version. Use timezone-aware objects to represent datetimes in UTC: datetime.datetime.fromtimestamp(timestamp, datetime.UTC).\n",
      "  \"comment_time\": datetime.utcfromtimestamp(comment.created_utc).strftime('%Y-%m-%d %H:%M:%S'),\n"
     ]
    },
    {
     "name": "stdout",
     "output_type": "stream",
     "text": [
      "Error fetching comments for 1h9jagx: received 429 HTTP response\n",
      "Error fetching comments for 1hjyzz8: received 429 HTTP response\n",
      "Exported 27411 comments to epl_comments_matchday13-20_20250306_192231.csv\n"
     ]
    }
   ],
   "source": [
    "import asyncio\n",
    "import asyncpraw\n",
    "import nest_asyncio\n",
    "import pandas as pd\n",
    "from datetime import datetime\n",
    "import aiohttp\n",
    "\n",
    "nest_asyncio.apply()\n",
    "\n",
    "# Load CSV and filter matchdays 13 to 20\n",
    "df = pd.read_csv(r\"Z:\\Coding_II\\Reddit_Sentiment_Analysis\\dataframe\\full_post(finished_matches_order).csv\")\n",
    "filtered_df = df[(df[\"matchday\"] >= 13) & (df[\"matchday\"] <= 20)].dropna(subset=[\"submission_id\"])\n",
    "\n",
    "# Reddit API setup\n",
    "async def get_reddit_instance():\n",
    "    session = aiohttp.ClientSession()\n",
    "    return asyncpraw.Reddit(\n",
    "        client_id=\"j9JdlLnSugDJxrhTFoXExQ\",\n",
    "        client_secret=\"QJbefKRgxmm7fY1ZYp6oQL0iv2wgUg\",\n",
    "        user_agent=\"Hi\",\n",
    "        username=\"FRD-23\",\n",
    "        password=\"@_Zurite1721212232005\",\n",
    "        requestor_kwargs={\"session\": session}\n",
    "    )\n",
    "\n",
    "# Scrape comments from the given submission IDs\n",
    "async def scrape_comments(submission_ids):\n",
    "    reddit = await get_reddit_instance()\n",
    "    all_comments = []\n",
    "    semaphore = asyncio.Semaphore(3)  # Limit concurrent requests\n",
    "\n",
    "    async def fetch_comments(submission_id):\n",
    "        async with semaphore:\n",
    "            try:\n",
    "                submission = await reddit.submission(id=submission_id)\n",
    "                await submission.comments.replace_more(limit=3)\n",
    "\n",
    "                for comment in submission.comments.list():\n",
    "                    all_comments.append({\n",
    "                        \"submission_id\": submission_id,\n",
    "                        \"comment_id\": comment.id,\n",
    "                        \"comment_text\": comment.body,\n",
    "                        \"comment_author\": comment.author.name if comment.author else \"[deleted]\",\n",
    "                        \"comment_score\": comment.score,\n",
    "                        \"comment_time\": datetime.utcfromtimestamp(comment.created_utc).strftime('%Y-%m-%d %H:%M:%S'),\n",
    "                        \"parent_id\": comment.parent_id if comment.parent_id else \"None\"\n",
    "                    })\n",
    "            except Exception as e:\n",
    "                print(f\"Error fetching comments for {submission_id}: {e}\")\n",
    "\n",
    "    await asyncio.gather(*(fetch_comments(sub_id) for sub_id in submission_ids))\n",
    "    return all_comments\n",
    "\n",
    "# Run async tasks\n",
    "async def main():\n",
    "    submission_ids = filtered_df[\"submission_id\"].unique()\n",
    "    comments_data = await scrape_comments(submission_ids)\n",
    "    \n",
    "    if comments_data:\n",
    "        df_comments = pd.DataFrame(comments_data)\n",
    "        csv_filename = f\"epl_comments_matchday13-20_{datetime.now().strftime('%Y%m%d_%H%M%S')}.csv\"\n",
    "        df_comments.to_csv(csv_filename, index=False)\n",
    "        print(f\"Exported {len(comments_data)} comments to {csv_filename}\")\n",
    "    else:\n",
    "        print(\"No comments extracted.\")\n",
    "\n",
    "# Run the async function\n",
    "asyncio.run(main())"
   ]
  }
 ],
 "metadata": {
  "kernelspec": {
   "display_name": "base",
   "language": "python",
   "name": "python3"
  },
  "language_info": {
   "codemirror_mode": {
    "name": "ipython",
    "version": 3
   },
   "file_extension": ".py",
   "mimetype": "text/x-python",
   "name": "python",
   "nbconvert_exporter": "python",
   "pygments_lexer": "ipython3",
   "version": "3.12.3"
  }
 },
 "nbformat": 4,
 "nbformat_minor": 2
}
